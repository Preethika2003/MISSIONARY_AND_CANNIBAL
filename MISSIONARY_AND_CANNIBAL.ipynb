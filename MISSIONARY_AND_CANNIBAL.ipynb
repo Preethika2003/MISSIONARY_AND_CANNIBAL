{
  "nbformat": 4,
  "nbformat_minor": 0,
  "metadata": {
    "colab": {
      "provenance": [],
      "authorship_tag": "ABX9TyPr1HhDmPmInvPnIayTuC19",
      "include_colab_link": true
    },
    "kernelspec": {
      "name": "python3",
      "display_name": "Python 3"
    },
    "language_info": {
      "name": "python"
    }
  },
  "cells": [
    {
      "cell_type": "markdown",
      "metadata": {
        "id": "view-in-github",
        "colab_type": "text"
      },
      "source": [
        "<a href=\"https://colab.research.google.com/github/Preethika2003/MISSIONARY_AND_CANNIBAL/blob/main/MISSIONARY_AND_CANNIBAL.ipynb\" target=\"_parent\"><img src=\"https://colab.research.google.com/assets/colab-badge.svg\" alt=\"Open In Colab\"/></a>"
      ]
    },
    {
      "cell_type": "code",
      "execution_count": null,
      "metadata": {
        "id": "MlGz6hguqToU",
        "outputId": "95cfa136-0ba4-49b4-90b3-3df5a847145d",
        "colab": {
          "base_uri": "https://localhost:8080/"
        }
      },
      "outputs": [
        {
          "output_type": "stream",
          "name": "stdout",
          "text": [
            "|🌊🌊🌊🌊🌊🚢|💂💂💂👹👹👹\n",
            "Enter the number of missionaries (or 10 to quit): 1\n",
            "Enter the number of cannibals: 1\n",
            "💂👹🌊🌊🌊🌊🌊|💂💂👹👹\n",
            "Enter the number of missionaries (or 10 to quit): 0\n",
            "Enter the number of cannibals: 1\n",
            "💂|🌊🌊🌊🌊🌊🚢|💂💂👹👹👹\n",
            "You Lose! Cannibals ate the missionaries!\n"
          ]
        }
      ],
      "source": [
        "# Unicode characters\n",
        "MISSIONARY = '\\U0001f482'  # 💂\n",
        "CANNIBAL = '\\U0001f479'   # 👹\n",
        "WATER = '\\U0001f30a'      # 🌊\n",
        "BOAT = '\\U0001f6A2'       # 🚢\n",
        "\n",
        "# Game state variables\n",
        "boat_side = 'Right'\n",
        "missionaries_on_right = 3\n",
        "cannibals_on_right = 3\n",
        "missionaries_on_left = 0\n",
        "cannibals_on_left = 0\n",
        "\n",
        "# Function to display the current state\n",
        "def display_state():\n",
        "    left_side = ''.join([MISSIONARY for _ in range(missionaries_on_left)]) + ''.join([CANNIBAL for _ in range(cannibals_on_left)])\n",
        "    water_section = WATER * 5\n",
        "    boat_position = BOAT if boat_side == 'Right' else ''\n",
        "    right_side = ''.join([MISSIONARY for _ in range(missionaries_on_right)]) + ''.join([CANNIBAL for _ in range(cannibals_on_right)])\n",
        "\n",
        "    if boat_side == 'Right':\n",
        "        print(f\"{left_side}|{water_section}{boat_position}|{right_side}\")\n",
        "    else:\n",
        "        print(f\"{left_side}{boat_position}{water_section}|{right_side}\")\n",
        "\n",
        "# Initial display\n",
        "display_state()\n",
        "\n",
        "while True:\n",
        "    # User input\n",
        "    try:\n",
        "        missionaries = int(input(\"Enter the number of missionaries (or 10 to quit): \"))\n",
        "        if missionaries == 10:\n",
        "            print(\"You Quit. Game Over!\")\n",
        "            break\n",
        "        cannibals = int(input(\"Enter the number of cannibals: \"))\n",
        "\n",
        "        if (missionaries + cannibals) < 1 or (missionaries + cannibals) > 2:\n",
        "            print(\"Invalid Move! You can only move 1 or 2 people.\")\n",
        "            continue\n",
        "\n",
        "        # Move the boat\n",
        "        if boat_side == 'Right':\n",
        "            if missionaries_on_right < missionaries or cannibals_on_right < cannibals:\n",
        "                print(\"Invalid Move! Not enough people on the right side.\")\n",
        "                continue\n",
        "\n",
        "            missionaries_on_right -= missionaries\n",
        "            cannibals_on_right -= cannibals\n",
        "            missionaries_on_left += missionaries\n",
        "            cannibals_on_left += cannibals\n",
        "            boat_side = 'Left'\n",
        "\n",
        "        else:  # Boat is on the left\n",
        "            if missionaries_on_left < missionaries or cannibals_on_left < cannibals:\n",
        "                print(\"Invalid Move! Not enough people on the left side.\")\n",
        "                continue\n",
        "\n",
        "            missionaries_on_left -= missionaries\n",
        "            cannibals_on_left -= cannibals\n",
        "            missionaries_on_right += missionaries\n",
        "            cannibals_on_right += cannibals\n",
        "            boat_side = 'Right'\n",
        "\n",
        "        # Display updated state\n",
        "        display_state()\n",
        "\n",
        "        # Losing condition: Cannibals outnumber missionaries on either side\n",
        "        if (missionaries_on_right < cannibals_on_right and missionaries_on_right > 0) or (missionaries_on_left < cannibals_on_left and missionaries_on_left > 0):\n",
        "            print(\"You Lose! Cannibals ate the missionaries!\")\n",
        "            break\n",
        "\n",
        "        # Winning condition: All missionaries and cannibals on the left side\n",
        "        if missionaries_on_left == 3 and cannibals_on_left == 3:\n",
        "            print(\"Congratulations! You Win!\")\n",
        "            break\n",
        "\n",
        "    except ValueError:\n",
        "        print(\"Invalid Input! Please enter a valid number.\")\n"
      ]
    }
  ]
}